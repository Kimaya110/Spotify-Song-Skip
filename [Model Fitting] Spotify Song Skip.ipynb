{
  "nbformat": 4,
  "nbformat_minor": 0,
  "metadata": {
    "colab": {
      "name": "SpotifySongskippsModelling.ipynb",
      "provenance": []
    },
    "kernelspec": {
      "name": "python3",
      "display_name": "Python 3"
    },
    "language_info": {
      "name": "python"
    }
  },
  "cells": [
    {
      "cell_type": "markdown",
      "metadata": {
        "id": "writ8jgrsbOK"
      },
      "source": [
        "**Importing all the libraries**"
      ]
    },
    {
      "cell_type": "code",
      "metadata": {
        "colab": {
          "base_uri": "https://localhost:8080/"
        },
        "id": "0c641HUxuknW",
        "outputId": "4203d46b-5595-43fc-b609-a410689a1eab"
      },
      "source": [
        "!pip install lightgbm"
      ],
      "execution_count": 39,
      "outputs": [
        {
          "output_type": "stream",
          "name": "stdout",
          "text": [
            "Requirement already satisfied: lightgbm in /usr/local/lib/python3.7/dist-packages (2.2.3)\n",
            "Requirement already satisfied: scipy in /usr/local/lib/python3.7/dist-packages (from lightgbm) (1.4.1)\n",
            "Requirement already satisfied: numpy in /usr/local/lib/python3.7/dist-packages (from lightgbm) (1.19.5)\n",
            "Requirement already satisfied: scikit-learn in /usr/local/lib/python3.7/dist-packages (from lightgbm) (1.0.1)\n",
            "Requirement already satisfied: threadpoolctl>=2.0.0 in /usr/local/lib/python3.7/dist-packages (from scikit-learn->lightgbm) (3.0.0)\n",
            "Requirement already satisfied: joblib>=0.11 in /usr/local/lib/python3.7/dist-packages (from scikit-learn->lightgbm) (1.1.0)\n"
          ]
        }
      ]
    },
    {
      "cell_type": "code",
      "metadata": {
        "id": "_OYdBPxHsqDH"
      },
      "source": [
        "import pandas as pd\n",
        "from datetime import datetime \n",
        "import pickle\n",
        "from sklearn.model_selection import train_test_split\n",
        "import lightgbm as lgb\n",
        "from sklearn.linear_model import LogisticRegression\n",
        "\n"
      ],
      "execution_count": 40,
      "outputs": []
    },
    {
      "cell_type": "markdown",
      "metadata": {
        "id": "ovauFPCWsyIO"
      },
      "source": [
        "**Importing the dataset**"
      ]
    },
    {
      "cell_type": "code",
      "metadata": {
        "id": "C8YrPguiCU69"
      },
      "source": [
        "df = pd.read_csv(\"finaldataset.csv\")"
      ],
      "execution_count": 41,
      "outputs": []
    },
    {
      "cell_type": "code",
      "metadata": {
        "colab": {
          "base_uri": "https://localhost:8080/",
          "height": 226
        },
        "id": "cMRqGfoUCeJ-",
        "outputId": "a34634c8-ab5c-4553-9d4c-94415b369c06"
      },
      "source": [
        "df.head()"
      ],
      "execution_count": 42,
      "outputs": [
        {
          "output_type": "execute_result",
          "data": {
            "text/html": [
              "<div>\n",
              "<style scoped>\n",
              "    .dataframe tbody tr th:only-of-type {\n",
              "        vertical-align: middle;\n",
              "    }\n",
              "\n",
              "    .dataframe tbody tr th {\n",
              "        vertical-align: top;\n",
              "    }\n",
              "\n",
              "    .dataframe thead th {\n",
              "        text-align: right;\n",
              "    }\n",
              "</style>\n",
              "<table border=\"1\" class=\"dataframe\">\n",
              "  <thead>\n",
              "    <tr style=\"text-align: right;\">\n",
              "      <th></th>\n",
              "      <th>session_position</th>\n",
              "      <th>session_length</th>\n",
              "      <th>skip_2</th>\n",
              "      <th>context_switch</th>\n",
              "      <th>no_pause_before_play</th>\n",
              "      <th>short_pause_before_play</th>\n",
              "      <th>long_pause_before_play</th>\n",
              "      <th>hist_user_behavior_n_seekfwd</th>\n",
              "      <th>hist_user_behavior_n_seekback</th>\n",
              "      <th>hist_user_behavior_is_shuffle</th>\n",
              "      <th>hour_of_day</th>\n",
              "      <th>premium</th>\n",
              "      <th>duration</th>\n",
              "      <th>release_year</th>\n",
              "      <th>us_popularity_estimate</th>\n",
              "      <th>acousticness</th>\n",
              "      <th>beat_strength</th>\n",
              "      <th>bounciness</th>\n",
              "      <th>danceability</th>\n",
              "      <th>dyn_range_mean</th>\n",
              "      <th>energy</th>\n",
              "      <th>flatness</th>\n",
              "      <th>instrumentalness</th>\n",
              "      <th>key</th>\n",
              "      <th>liveness</th>\n",
              "      <th>loudness</th>\n",
              "      <th>mechanism</th>\n",
              "      <th>mode</th>\n",
              "      <th>organism</th>\n",
              "      <th>speechiness</th>\n",
              "      <th>tempo</th>\n",
              "      <th>time_signature</th>\n",
              "      <th>valence</th>\n",
              "      <th>acoustic_vector_0</th>\n",
              "      <th>acoustic_vector_1</th>\n",
              "      <th>acoustic_vector_2</th>\n",
              "      <th>acoustic_vector_3</th>\n",
              "      <th>acoustic_vector_4</th>\n",
              "      <th>acoustic_vector_5</th>\n",
              "      <th>acoustic_vector_6</th>\n",
              "      <th>acoustic_vector_7</th>\n",
              "      <th>context_type_catalog</th>\n",
              "      <th>context_type_charts</th>\n",
              "      <th>context_type_editorial_playlist</th>\n",
              "      <th>context_type_personalized_playlist</th>\n",
              "      <th>context_type_radio</th>\n",
              "      <th>context_type_user_collection</th>\n",
              "      <th>hist_user_behavior_reason_start_appload</th>\n",
              "      <th>hist_user_behavior_reason_start_backbtn</th>\n",
              "      <th>hist_user_behavior_reason_start_clickrow</th>\n",
              "      <th>hist_user_behavior_reason_start_endplay</th>\n",
              "      <th>hist_user_behavior_reason_start_fwdbtn</th>\n",
              "      <th>hist_user_behavior_reason_start_playbtn</th>\n",
              "      <th>hist_user_behavior_reason_start_remote</th>\n",
              "      <th>hist_user_behavior_reason_start_trackdone</th>\n",
              "      <th>hist_user_behavior_reason_start_trackerror</th>\n",
              "      <th>hist_user_behavior_reason_end_backbtn</th>\n",
              "      <th>hist_user_behavior_reason_end_clickrow</th>\n",
              "      <th>hist_user_behavior_reason_end_endplay</th>\n",
              "      <th>hist_user_behavior_reason_end_fwdbtn</th>\n",
              "      <th>hist_user_behavior_reason_end_logout</th>\n",
              "      <th>hist_user_behavior_reason_end_remote</th>\n",
              "      <th>hist_user_behavior_reason_end_trackdone</th>\n",
              "    </tr>\n",
              "  </thead>\n",
              "  <tbody>\n",
              "    <tr>\n",
              "      <th>0</th>\n",
              "      <td>0.000000</td>\n",
              "      <td>1.0</td>\n",
              "      <td>0.0</td>\n",
              "      <td>0.0</td>\n",
              "      <td>0.0</td>\n",
              "      <td>0.0</td>\n",
              "      <td>0.0</td>\n",
              "      <td>0.0</td>\n",
              "      <td>0.0</td>\n",
              "      <td>1.0</td>\n",
              "      <td>0.695652</td>\n",
              "      <td>1.0</td>\n",
              "      <td>0.085263</td>\n",
              "      <td>1.0</td>\n",
              "      <td>0.996808</td>\n",
              "      <td>0.015914</td>\n",
              "      <td>0.442794</td>\n",
              "      <td>0.486798</td>\n",
              "      <td>0.663098</td>\n",
              "      <td>0.171768</td>\n",
              "      <td>0.553524</td>\n",
              "      <td>0.922667</td>\n",
              "      <td>0.003487</td>\n",
              "      <td>0.090909</td>\n",
              "      <td>0.677358</td>\n",
              "      <td>0.789668</td>\n",
              "      <td>0.546784</td>\n",
              "      <td>1.0</td>\n",
              "      <td>0.333214</td>\n",
              "      <td>0.072515</td>\n",
              "      <td>0.612616</td>\n",
              "      <td>0.8</td>\n",
              "      <td>0.152256</td>\n",
              "      <td>0.149403</td>\n",
              "      <td>0.775233</td>\n",
              "      <td>0.723667</td>\n",
              "      <td>0.444439</td>\n",
              "      <td>0.361692</td>\n",
              "      <td>0.724188</td>\n",
              "      <td>0.224763</td>\n",
              "      <td>0.55524</td>\n",
              "      <td>0.0</td>\n",
              "      <td>0.0</td>\n",
              "      <td>1.0</td>\n",
              "      <td>0.0</td>\n",
              "      <td>0.0</td>\n",
              "      <td>0.0</td>\n",
              "      <td>0.0</td>\n",
              "      <td>0.0</td>\n",
              "      <td>0.0</td>\n",
              "      <td>0.0</td>\n",
              "      <td>0.0</td>\n",
              "      <td>0.0</td>\n",
              "      <td>0.0</td>\n",
              "      <td>1.0</td>\n",
              "      <td>0.0</td>\n",
              "      <td>0.0</td>\n",
              "      <td>0.0</td>\n",
              "      <td>0.0</td>\n",
              "      <td>0.0</td>\n",
              "      <td>0.0</td>\n",
              "      <td>0.0</td>\n",
              "      <td>1.0</td>\n",
              "    </tr>\n",
              "    <tr>\n",
              "      <th>1</th>\n",
              "      <td>0.315789</td>\n",
              "      <td>0.2</td>\n",
              "      <td>0.0</td>\n",
              "      <td>0.0</td>\n",
              "      <td>0.0</td>\n",
              "      <td>1.0</td>\n",
              "      <td>1.0</td>\n",
              "      <td>0.0</td>\n",
              "      <td>0.0</td>\n",
              "      <td>0.0</td>\n",
              "      <td>0.739130</td>\n",
              "      <td>1.0</td>\n",
              "      <td>0.085263</td>\n",
              "      <td>1.0</td>\n",
              "      <td>0.996808</td>\n",
              "      <td>0.015914</td>\n",
              "      <td>0.442794</td>\n",
              "      <td>0.486798</td>\n",
              "      <td>0.663098</td>\n",
              "      <td>0.171768</td>\n",
              "      <td>0.553524</td>\n",
              "      <td>0.922667</td>\n",
              "      <td>0.003487</td>\n",
              "      <td>0.090909</td>\n",
              "      <td>0.677358</td>\n",
              "      <td>0.789668</td>\n",
              "      <td>0.546784</td>\n",
              "      <td>1.0</td>\n",
              "      <td>0.333214</td>\n",
              "      <td>0.072515</td>\n",
              "      <td>0.612616</td>\n",
              "      <td>0.8</td>\n",
              "      <td>0.152256</td>\n",
              "      <td>0.149403</td>\n",
              "      <td>0.775233</td>\n",
              "      <td>0.723667</td>\n",
              "      <td>0.444439</td>\n",
              "      <td>0.361692</td>\n",
              "      <td>0.724188</td>\n",
              "      <td>0.224763</td>\n",
              "      <td>0.55524</td>\n",
              "      <td>0.0</td>\n",
              "      <td>0.0</td>\n",
              "      <td>1.0</td>\n",
              "      <td>0.0</td>\n",
              "      <td>0.0</td>\n",
              "      <td>0.0</td>\n",
              "      <td>0.0</td>\n",
              "      <td>0.0</td>\n",
              "      <td>0.0</td>\n",
              "      <td>0.0</td>\n",
              "      <td>1.0</td>\n",
              "      <td>0.0</td>\n",
              "      <td>0.0</td>\n",
              "      <td>0.0</td>\n",
              "      <td>0.0</td>\n",
              "      <td>0.0</td>\n",
              "      <td>0.0</td>\n",
              "      <td>1.0</td>\n",
              "      <td>0.0</td>\n",
              "      <td>0.0</td>\n",
              "      <td>0.0</td>\n",
              "      <td>0.0</td>\n",
              "    </tr>\n",
              "    <tr>\n",
              "      <th>2</th>\n",
              "      <td>0.263158</td>\n",
              "      <td>1.0</td>\n",
              "      <td>0.0</td>\n",
              "      <td>0.0</td>\n",
              "      <td>0.0</td>\n",
              "      <td>1.0</td>\n",
              "      <td>1.0</td>\n",
              "      <td>0.0</td>\n",
              "      <td>0.0</td>\n",
              "      <td>0.0</td>\n",
              "      <td>0.913043</td>\n",
              "      <td>1.0</td>\n",
              "      <td>0.085263</td>\n",
              "      <td>1.0</td>\n",
              "      <td>0.996808</td>\n",
              "      <td>0.015914</td>\n",
              "      <td>0.442794</td>\n",
              "      <td>0.486798</td>\n",
              "      <td>0.663098</td>\n",
              "      <td>0.171768</td>\n",
              "      <td>0.553524</td>\n",
              "      <td>0.922667</td>\n",
              "      <td>0.003487</td>\n",
              "      <td>0.090909</td>\n",
              "      <td>0.677358</td>\n",
              "      <td>0.789668</td>\n",
              "      <td>0.546784</td>\n",
              "      <td>1.0</td>\n",
              "      <td>0.333214</td>\n",
              "      <td>0.072515</td>\n",
              "      <td>0.612616</td>\n",
              "      <td>0.8</td>\n",
              "      <td>0.152256</td>\n",
              "      <td>0.149403</td>\n",
              "      <td>0.775233</td>\n",
              "      <td>0.723667</td>\n",
              "      <td>0.444439</td>\n",
              "      <td>0.361692</td>\n",
              "      <td>0.724188</td>\n",
              "      <td>0.224763</td>\n",
              "      <td>0.55524</td>\n",
              "      <td>0.0</td>\n",
              "      <td>0.0</td>\n",
              "      <td>0.0</td>\n",
              "      <td>0.0</td>\n",
              "      <td>0.0</td>\n",
              "      <td>1.0</td>\n",
              "      <td>0.0</td>\n",
              "      <td>0.0</td>\n",
              "      <td>0.0</td>\n",
              "      <td>0.0</td>\n",
              "      <td>0.0</td>\n",
              "      <td>0.0</td>\n",
              "      <td>0.0</td>\n",
              "      <td>1.0</td>\n",
              "      <td>0.0</td>\n",
              "      <td>0.0</td>\n",
              "      <td>0.0</td>\n",
              "      <td>0.0</td>\n",
              "      <td>0.0</td>\n",
              "      <td>0.0</td>\n",
              "      <td>0.0</td>\n",
              "      <td>1.0</td>\n",
              "    </tr>\n",
              "    <tr>\n",
              "      <th>3</th>\n",
              "      <td>0.421053</td>\n",
              "      <td>0.3</td>\n",
              "      <td>0.0</td>\n",
              "      <td>0.0</td>\n",
              "      <td>1.0</td>\n",
              "      <td>0.0</td>\n",
              "      <td>0.0</td>\n",
              "      <td>0.0</td>\n",
              "      <td>0.0</td>\n",
              "      <td>0.0</td>\n",
              "      <td>0.782609</td>\n",
              "      <td>1.0</td>\n",
              "      <td>0.085263</td>\n",
              "      <td>1.0</td>\n",
              "      <td>0.996808</td>\n",
              "      <td>0.015914</td>\n",
              "      <td>0.442794</td>\n",
              "      <td>0.486798</td>\n",
              "      <td>0.663098</td>\n",
              "      <td>0.171768</td>\n",
              "      <td>0.553524</td>\n",
              "      <td>0.922667</td>\n",
              "      <td>0.003487</td>\n",
              "      <td>0.090909</td>\n",
              "      <td>0.677358</td>\n",
              "      <td>0.789668</td>\n",
              "      <td>0.546784</td>\n",
              "      <td>1.0</td>\n",
              "      <td>0.333214</td>\n",
              "      <td>0.072515</td>\n",
              "      <td>0.612616</td>\n",
              "      <td>0.8</td>\n",
              "      <td>0.152256</td>\n",
              "      <td>0.149403</td>\n",
              "      <td>0.775233</td>\n",
              "      <td>0.723667</td>\n",
              "      <td>0.444439</td>\n",
              "      <td>0.361692</td>\n",
              "      <td>0.724188</td>\n",
              "      <td>0.224763</td>\n",
              "      <td>0.55524</td>\n",
              "      <td>0.0</td>\n",
              "      <td>0.0</td>\n",
              "      <td>1.0</td>\n",
              "      <td>0.0</td>\n",
              "      <td>0.0</td>\n",
              "      <td>0.0</td>\n",
              "      <td>0.0</td>\n",
              "      <td>0.0</td>\n",
              "      <td>0.0</td>\n",
              "      <td>0.0</td>\n",
              "      <td>1.0</td>\n",
              "      <td>0.0</td>\n",
              "      <td>0.0</td>\n",
              "      <td>0.0</td>\n",
              "      <td>0.0</td>\n",
              "      <td>0.0</td>\n",
              "      <td>0.0</td>\n",
              "      <td>0.0</td>\n",
              "      <td>0.0</td>\n",
              "      <td>0.0</td>\n",
              "      <td>0.0</td>\n",
              "      <td>1.0</td>\n",
              "    </tr>\n",
              "    <tr>\n",
              "      <th>4</th>\n",
              "      <td>0.315789</td>\n",
              "      <td>0.2</td>\n",
              "      <td>0.0</td>\n",
              "      <td>0.0</td>\n",
              "      <td>0.0</td>\n",
              "      <td>1.0</td>\n",
              "      <td>1.0</td>\n",
              "      <td>0.0</td>\n",
              "      <td>0.0</td>\n",
              "      <td>1.0</td>\n",
              "      <td>0.826087</td>\n",
              "      <td>0.0</td>\n",
              "      <td>0.085263</td>\n",
              "      <td>1.0</td>\n",
              "      <td>0.996808</td>\n",
              "      <td>0.015914</td>\n",
              "      <td>0.442794</td>\n",
              "      <td>0.486798</td>\n",
              "      <td>0.663098</td>\n",
              "      <td>0.171768</td>\n",
              "      <td>0.553524</td>\n",
              "      <td>0.922667</td>\n",
              "      <td>0.003487</td>\n",
              "      <td>0.090909</td>\n",
              "      <td>0.677358</td>\n",
              "      <td>0.789668</td>\n",
              "      <td>0.546784</td>\n",
              "      <td>1.0</td>\n",
              "      <td>0.333214</td>\n",
              "      <td>0.072515</td>\n",
              "      <td>0.612616</td>\n",
              "      <td>0.8</td>\n",
              "      <td>0.152256</td>\n",
              "      <td>0.149403</td>\n",
              "      <td>0.775233</td>\n",
              "      <td>0.723667</td>\n",
              "      <td>0.444439</td>\n",
              "      <td>0.361692</td>\n",
              "      <td>0.724188</td>\n",
              "      <td>0.224763</td>\n",
              "      <td>0.55524</td>\n",
              "      <td>0.0</td>\n",
              "      <td>0.0</td>\n",
              "      <td>1.0</td>\n",
              "      <td>0.0</td>\n",
              "      <td>0.0</td>\n",
              "      <td>0.0</td>\n",
              "      <td>0.0</td>\n",
              "      <td>0.0</td>\n",
              "      <td>0.0</td>\n",
              "      <td>0.0</td>\n",
              "      <td>0.0</td>\n",
              "      <td>0.0</td>\n",
              "      <td>0.0</td>\n",
              "      <td>1.0</td>\n",
              "      <td>0.0</td>\n",
              "      <td>0.0</td>\n",
              "      <td>0.0</td>\n",
              "      <td>0.0</td>\n",
              "      <td>1.0</td>\n",
              "      <td>0.0</td>\n",
              "      <td>0.0</td>\n",
              "      <td>0.0</td>\n",
              "    </tr>\n",
              "  </tbody>\n",
              "</table>\n",
              "</div>"
            ],
            "text/plain": [
              "   session_position  ...  hist_user_behavior_reason_end_trackdone\n",
              "0          0.000000  ...                                      1.0\n",
              "1          0.315789  ...                                      0.0\n",
              "2          0.263158  ...                                      1.0\n",
              "3          0.421053  ...                                      1.0\n",
              "4          0.315789  ...                                      0.0\n",
              "\n",
              "[5 rows x 63 columns]"
            ]
          },
          "metadata": {},
          "execution_count": 42
        }
      ]
    },
    {
      "cell_type": "code",
      "metadata": {
        "id": "sGzGWALtQdL2"
      },
      "source": [
        "df.dropna(axis = 0, inplace = True)"
      ],
      "execution_count": 43,
      "outputs": []
    },
    {
      "cell_type": "code",
      "metadata": {
        "id": "kbS95hw0Ch6J"
      },
      "source": [
        "x = df.drop(['skip_2'],axis = \"columns\")\n",
        "y = df.skip_2"
      ],
      "execution_count": 44,
      "outputs": []
    },
    {
      "cell_type": "markdown",
      "metadata": {
        "id": "_06huijmCoEg"
      },
      "source": [
        "**Splitting the Dataset**"
      ]
    },
    {
      "cell_type": "code",
      "metadata": {
        "colab": {
          "base_uri": "https://localhost:8080/"
        },
        "id": "SWPEBb9dCuwD",
        "outputId": "de21607e-9fcb-407d-e2e4-3f8050fe26b6"
      },
      "source": [
        "x_train,x_test,y_train,y_test = train_test_split(x,y,test_size = 0.20 , random_state = 4)\n",
        "x_train.shape,y_train.shape,x_test.shape,y_test.shape"
      ],
      "execution_count": 45,
      "outputs": [
        {
          "output_type": "execute_result",
          "data": {
            "text/plain": [
              "((8566, 62), (8566,), (2142, 62), (2142,))"
            ]
          },
          "metadata": {},
          "execution_count": 45
        }
      ]
    },
    {
      "cell_type": "markdown",
      "metadata": {
        "id": "KIefsjCXDOVt"
      },
      "source": [
        "**Selecting a suitable Model**"
      ]
    },
    {
      "cell_type": "markdown",
      "metadata": {
        "id": "O2vYC4kKD6rB"
      },
      "source": [
        "**1. Light GBT**"
      ]
    },
    {
      "cell_type": "code",
      "metadata": {
        "id": "aL6mbjyeDYWs"
      },
      "source": [
        "d_train = lgb.Dataset(x_train, label=y_train)"
      ],
      "execution_count": 46,
      "outputs": []
    },
    {
      "cell_type": "code",
      "metadata": {
        "id": "9KJTK8gRDc9z"
      },
      "source": [
        "lgbm_params = {'learning_rate':0.23, 'boosting_type':'dart',\n",
        "              'objective':'binary',\n",
        "              'metric':['auc', 'binary_logloss'],\n",
        "              'num_leaves':2500,\n",
        "              'max_depth':5,\n",
        "              \"min_data_in_leaf\": 200,\n",
        "              \"lambda_l1\": 15,\n",
        "              \"lambda_l2\": 70,\n",
        "              \"min_gain_to_split\": 2,\n",
        "              \"bagging_fraction\": 0.7,\n",
        "              \"bagging_freq\": 1,\n",
        "              \"feature_fraction\": 0.9}"
      ],
      "execution_count": 47,
      "outputs": []
    },
    {
      "cell_type": "code",
      "metadata": {
        "colab": {
          "base_uri": "https://localhost:8080/"
        },
        "id": "D-Rjn4fADiIZ",
        "outputId": "6d23c932-c295-4da9-c5b7-cd8cbd35e303"
      },
      "source": [
        "from datetime import datetime\n",
        "start=datetime.now()\n",
        "clf = lgb.train(lgbm_params, d_train, 200) #50 iterations. Increase iterations for small learning rates\n",
        "stop=datetime.now()\n",
        "execution_time_lgbm = stop-start\n",
        "print(\"LGBM execution time is: \", execution_time_lgbm)"
      ],
      "execution_count": 48,
      "outputs": [
        {
          "output_type": "stream",
          "name": "stdout",
          "text": [
            "LGBM execution time is:  0:00:00.878941\n"
          ]
        }
      ]
    },
    {
      "cell_type": "code",
      "metadata": {
        "colab": {
          "base_uri": "https://localhost:8080/"
        },
        "id": "AX06IAv1DxFC",
        "outputId": "792660ea-52d2-44b8-e55b-4b09ee1bd99c"
      },
      "source": [
        "from sklearn import metrics\n",
        "\n",
        "# Prediction on Test data\n",
        "y_pred_lgbm=clf.predict(x_test)\n",
        "\n",
        "\n",
        "#convert into binary values 0/1 for classification\n",
        "for i in range(0, x_test.shape[0]):\n",
        "    if y_pred_lgbm[i]>=0.5:       # setting threshold to 0.5\n",
        "       y_pred_lgbm[i]=1\n",
        "    else:  \n",
        "       y_pred_lgbm[i]=0\n",
        "       \n",
        "#Print accuracy\n",
        "print (\"Accuracy with LGBM = \", metrics.accuracy_score(y_pred_lgbm,y_test))"
      ],
      "execution_count": 49,
      "outputs": [
        {
          "output_type": "stream",
          "name": "stdout",
          "text": [
            "Accuracy with LGBM =  0.853874883286648\n"
          ]
        }
      ]
    },
    {
      "cell_type": "code",
      "metadata": {
        "colab": {
          "base_uri": "https://localhost:8080/"
        },
        "id": "_IwEQfM5HY0a",
        "outputId": "f1f136d0-8dd8-43a8-c11e-f97b28b2c7b0"
      },
      "source": [
        "# Prediction on train data\n",
        "yt_pred = clf.predict(x_train)\n",
        "\n",
        "#convert into binary values 0/1 for classification\n",
        "for i in range(0, x_train.shape[0]):\n",
        "    if yt_pred[i] >= 0.5:    # setting threshold to 0.5   \n",
        "        yt_pred[i] = 1\n",
        "    else:  \n",
        "        yt_pred[i] = 0\n",
        "\n",
        "#Print accuracy\n",
        "print (\"Accuracy with LGBM = \", metrics.accuracy_score(yt_pred,y_train))"
      ],
      "execution_count": 50,
      "outputs": [
        {
          "output_type": "stream",
          "name": "stdout",
          "text": [
            "Accuracy with LGBM =  0.8646976418398319\n"
          ]
        }
      ]
    },
    {
      "cell_type": "code",
      "metadata": {
        "id": "Ep5zsYZb9Gj3"
      },
      "source": [
        " import pickle\n",
        "\n",
        "filename = 'gbt3.pkl'\n",
        "pickle.dump(clf, open('gbt3.pkl', 'wb'))"
      ],
      "execution_count": 51,
      "outputs": []
    },
    {
      "cell_type": "code",
      "metadata": {
        "colab": {
          "base_uri": "https://localhost:8080/",
          "height": 265
        },
        "id": "nGBDHtbRN_gA",
        "outputId": "5eb12be6-b5fb-4971-c921-055e00ecbba8"
      },
      "source": [
        "from sklearn.metrics import confusion_matrix\n",
        "import matplotlib.pyplot as plt\n",
        "import seaborn as sns\n",
        "\n",
        "\n",
        "# Plotting confusion matrix using heatmap\n",
        "plt.figure()\n",
        "cm_lgbm = confusion_matrix(y_test, y_pred_lgbm)\n",
        "sns.heatmap(cm_lgbm, annot = True)\n",
        "plt.show()"
      ],
      "execution_count": 52,
      "outputs": [
        {
          "output_type": "display_data",
          "data": {
            "image/png": "[encoded data removed]",
            "text/plain": [
              "<Figure size 432x288 with 2 Axes>"
            ]
          },
          "metadata": {
            "needs_background": "light"
          }
        }
      ]
    },
    {
      "cell_type": "markdown",
      "metadata": {
        "id": "aCDw1ah1EBD1"
      },
      "source": [
        "**2. Logistic Regression**"
      ]
    },
    {
      "cell_type": "code",
      "metadata": {
        "id": "pMumN51sMyfY"
      },
      "source": [
        "from sklearn.linear_model import LogisticRegression\n",
        "\n",
        "model = LogisticRegression(solver='lbfgs', max_iter=1000)\n",
        "\n",
        "model.fit(x_train,y_train)\n",
        "\n",
        "y_pred = model.predict(x_test)"
      ],
      "execution_count": 53,
      "outputs": []
    },
    {
      "cell_type": "code",
      "metadata": {
        "colab": {
          "base_uri": "https://localhost:8080/"
        },
        "id": "aVOlez5NNRPO",
        "outputId": "297318b4-07b4-4d63-925d-60bc4360dd32"
      },
      "source": [
        "from sklearn.metrics import accuracy_score\n",
        "\n",
        "score_model = round(accuracy_score(y_pred,y_test)*100,2)\n",
        "\n",
        "print(\"The accuracy score achieved using Logistic Regression is: \"+str(score_model)+\" %\")"
      ],
      "execution_count": 54,
      "outputs": [
        {
          "output_type": "stream",
          "name": "stdout",
          "text": [
            "The accuracy score achieved using Logistic Regression is: 85.53 %\n"
          ]
        }
      ]
    },
    {
      "cell_type": "code",
      "metadata": {
        "id": "Tua-sQYhESUB"
      },
      "source": [
        "import pickle\n",
        "\n",
        "filename = 'logistic_regression.pkl'\n",
        "pickle.dump(model, open('logistic_regression.pkl', 'wb'))"
      ],
      "execution_count": 55,
      "outputs": []
    }
  ]
}